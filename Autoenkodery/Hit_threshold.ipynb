{
 "cells": [
  {
   "cell_type": "code",
   "execution_count": 1,
   "metadata": {
    "scrolled": true
   },
   "outputs": [
    {
     "name": "stderr",
     "output_type": "stream",
     "text": [
      "Using TensorFlow backend.\n"
     ]
    }
   ],
   "source": [
    "import glob\n",
    "import pandas as pd\n",
    "import numpy as np\n",
    "import matplotlib.pyplot as plt\n",
    "import datetime\n",
    "import os\n",
    "from numpy.random import seed\n",
    "from sklearn.preprocessing import StandardScaler, minmax_scale\n",
    "from sklearn.decomposition import PCA\n",
    "from sklearn.model_selection import train_test_split\n",
    "from keras.layers import Input, Dense\n",
    "from keras.models import Sequential, Model\n",
    "from keras.optimizers import Adam"
   ]
  },
  {
   "cell_type": "code",
   "execution_count": 2,
   "metadata": {},
   "outputs": [],
   "source": [
    "data_filesT = glob.glob(\"../Tell1CalibCsvT/*.csv\")"
   ]
  },
  {
   "cell_type": "code",
   "execution_count": 3,
   "metadata": {},
   "outputs": [],
   "source": [
    "def module_names():\n",
    "    names = []\n",
    "    data = pd.read_csv(data_filesT[0] ,sep=' ', header=None, engine='python', error_bad_lines=False, warn_bad_lines=False)\n",
    "    data = data[data[0].str.contains(\"low_threshold\")]\n",
    "    names = data[1]\n",
    "    return names"
   ]
  },
  {
   "cell_type": "code",
   "execution_count": 4,
   "metadata": {},
   "outputs": [],
   "source": [
    "map_data_path = \"../module_mapping.csv\"\n",
    "map_data = pd.read_csv(map_data_path ,sep=' ', engine='python', index_col=False)\n",
    "map_data_R = map_data[map_data[\"sensor_type\"] == \"R\"].sort_values(by=['sensor_number'])\n",
    "map_data_Phi = map_data[map_data[\"sensor_type\"] == \"phi\"].sort_values(by=['sensor_number'])\n",
    "\n",
    "r_sensors_numbers = map_data_R[\"sensor_number\"][0:42].tolist()\n",
    "phi_sensors_numbers = map_data_Phi[\"sensor_number\"].tolist()\n",
    "\n",
    "r_sensors_names = []\n",
    "for i in r_sensors_numbers:\n",
    "    r_sensors_names.append(\"VeloTELL1Board\" + str(i))\n",
    "\n",
    "phi_sensors_names = []\n",
    "for i in phi_sensors_numbers:\n",
    "    phi_sensors_names.append(\"VeloTELL1Board\" + str(i))"
   ]
  },
  {
   "cell_type": "code",
   "execution_count": 5,
   "metadata": {},
   "outputs": [],
   "source": [
    "def plot_history(train_loss):\n",
    "    plt.figure(figsize=(15, 5))\n",
    "#    ax = plt.subplot(1, 2, 1)\n",
    "    plt.plot(train_loss)\n",
    "    plt.title(\"Train loss\")"
   ]
  },
  {
   "cell_type": "code",
   "execution_count": 8,
   "metadata": {
    "scrolled": true
   },
   "outputs": [
    {
     "name": "stdout",
     "output_type": "stream",
     "text": [
      "_________________________________________________________________\n",
      "Layer (type)                 Output Shape              Param #   \n",
      "=================================================================\n",
      "dense_6 (Dense)              (None, 40)                3400      \n",
      "_________________________________________________________________\n",
      "dense_7 (Dense)              (None, 10)                410       \n",
      "_________________________________________________________________\n",
      "bottleneck (Dense)           (None, 2)                 22        \n",
      "_________________________________________________________________\n",
      "dense_8 (Dense)              (None, 10)                30        \n",
      "_________________________________________________________________\n",
      "dense_9 (Dense)              (None, 40)                440       \n",
      "_________________________________________________________________\n",
      "dense_10 (Dense)             (None, 84)                3444      \n",
      "=================================================================\n",
      "Total params: 7,746\n",
      "Trainable params: 7,746\n",
      "Non-trainable params: 0\n",
      "_________________________________________________________________\n"
     ]
    }
   ],
   "source": [
    "ncol   = 84\n",
    "inputS = (ncol,)\n",
    "modelRelu  = Sequential()\n",
    "\n",
    "# Encoder Layers\n",
    "modelRelu.add(Dense(40, activation = 'relu', input_shape=inputS))\n",
    "modelRelu.add(Dense(10, activation = 'relu'))\n",
    "modelRelu.add(Dense(2,  activation = 'relu', name=\"bottleneck\"))\n",
    "\n",
    "# Decoder Layers\n",
    "modelRelu.add(Dense(10, activation = 'relu'))\n",
    "modelRelu.add(Dense(40, activation = 'relu'))\n",
    "modelRelu.add(Dense(84, activation = 'sigmoid'))\n",
    "\n",
    "# Compile the Model\n",
    "modelRelu.compile(loss = 'binary_crossentropy', optimizer = Adam())\n",
    "\n",
    "modelRelu.summary()"
   ]
  },
  {
   "cell_type": "code",
   "execution_count": 9,
   "metadata": {},
   "outputs": [
    {
     "data": {
      "image/png": "[encoded data removed]",
      "text/plain": [
       "<Figure size 1080x360 with 1 Axes>"
      ]
     },
     "metadata": {
      "needs_background": "light"
     },
     "output_type": "display_data"
    }
   ],
   "source": [
    "train_loss_batch = []\n",
    "\n",
    "for file in data_filesT:\n",
    "    data2 = pd.DataFrame()\n",
    "    data = pd.read_csv(file ,sep=' ', header=None, engine='python', error_bad_lines=False, warn_bad_lines=False)\n",
    "    data = data[data[0].str.contains(\"hit_threshold\")]\n",
    "    data2 = data.loc[:, 2:2305]\n",
    "\n",
    "    data2.index = module_names()\n",
    "    data2.columns = range(2304)\n",
    "\n",
    "    data_train = data2.T\n",
    "    \n",
    "    history = modelRelu.train_on_batch(data_train, data_train)\n",
    "    train_loss_batch.append(history)\n",
    "\n",
    "#plot_history(train_loss_fit)\n",
    "plot_history(train_loss_batch)"
   ]
  },
  {
   "cell_type": "code",
   "execution_count": 10,
   "metadata": {
    "scrolled": true
   },
   "outputs": [
    {
     "name": "stdout",
     "output_type": "stream",
     "text": [
      "_________________________________________________________________\n",
      "Layer (type)                 Output Shape              Param #   \n",
      "=================================================================\n",
      "dense_6_input (InputLayer)   (None, 84)                0         \n",
      "_________________________________________________________________\n",
      "dense_6 (Dense)              (None, 40)                3400      \n",
      "_________________________________________________________________\n",
      "dense_7 (Dense)              (None, 10)                410       \n",
      "_________________________________________________________________\n",
      "bottleneck (Dense)           (None, 2)                 22        \n",
      "=================================================================\n",
      "Total params: 3,832\n",
      "Trainable params: 3,832\n",
      "Non-trainable params: 0\n",
      "_________________________________________________________________\n"
     ]
    }
   ],
   "source": [
    "chanell_encoder = Model(modelRelu.input, modelRelu.get_layer('bottleneck').output)\n",
    "chanell_encoder.summary()"
   ]
  },
  {
   "cell_type": "code",
   "execution_count": 14,
   "metadata": {},
   "outputs": [
    {
     "data": {
      "image/png": "[encoded data removed]",
      "text/plain": [
       "<Figure size 1080x360 with 1 Axes>"
      ]
     },
     "metadata": {
      "needs_background": "light"
     },
     "output_type": "display_data"
    }
   ],
   "source": [
    "fig, ax = plt.subplots()\n",
    "ax.set_title('Hit treshold value per channel after autoencoder reduction (relu)')\n",
    "\n",
    "for file in data_filesT:\n",
    "    data2 = pd.DataFrame()\n",
    "    data = pd.read_csv(file ,sep=' ', header=None, engine='python', error_bad_lines=False, warn_bad_lines=False)\n",
    "    data = data[data[0].str.contains(\"hit_threshold\")]\n",
    "    data2 = data.loc[:, 2:2305]\n",
    "\n",
    "    data2.index = module_names()\n",
    "    data2.columns = range(2304)\n",
    "\n",
    "    data_test = data2.T\n",
    "    \n",
    "    Zenc = chanell_encoder.predict(data_test) \n",
    "\n",
    "    ax.plot(Zenc[:,0], Zenc[:,1], 'ro')\n",
    "    \n",
    "#plt.xticks(rotation=90)\n",
    "plt.rcParams['figure.figsize'] = [15,5]\n",
    "ax.grid()\n",
    "plt.show()"
   ]
  },
  {
   "cell_type": "code",
   "execution_count": 13,
   "metadata": {},
   "outputs": [],
   "source": [
    "chanell_encoder.save('relu_channel_model_hit_treshold.h5')"
   ]
  },
  {
   "cell_type": "code",
   "execution_count": 17,
   "metadata": {},
   "outputs": [
    {
     "data": {
      "image/png": "[encoded data removed]",
      "text/plain": [
       "<Figure size 1080x360 with 1 Axes>"
      ]
     },
     "metadata": {
      "needs_background": "light"
     },
     "output_type": "display_data"
    }
   ],
   "source": [
    "fig, ax = plt.subplots()\n",
    "ax.set_title('Hit treshold value per channel after autoencoder reduction (relu)')\n",
    "\n",
    "sensor_numbersR = []\n",
    "sensor_numbersG = []\n",
    "sensor_numbersB = []\n",
    "sensor_numbersY = []\n",
    "\n",
    "for file in data_filesT:\n",
    "    data2 = pd.DataFrame()\n",
    "    data = pd.read_csv(file ,sep=' ', header=None, engine='python', error_bad_lines=False, warn_bad_lines=False)\n",
    "    data = data[data[0].str.contains(\"hit_threshold\")]\n",
    "    data2 = data.loc[:, 2:2305]\n",
    "\n",
    "    data2.index = module_names()\n",
    "    data2.columns = range(2304)\n",
    "\n",
    "    data_test = data2.T\n",
    "    \n",
    "    Zenc = chanell_encoder.predict(data_test) \n",
    "\n",
    "    for i in data_test.index:\n",
    "        if Zenc[i, 0] < 400:\n",
    "            ax.plot(Zenc[i, 0], Zenc[i, 1], 'ro')\n",
    "            sensor_numbersR.append(i)\n",
    "        elif (Zenc[i, 0] > 600) and (Zenc[i, 0] < 800):\n",
    "            ax.plot(Zenc[i, 0], Zenc[i, 1], 'yo')\n",
    "            sensor_numbersY.append(i)\n",
    "        elif (Zenc[i, 0] > 800) and (Zenc[i, 0] < 1000):\n",
    "            ax.plot(Zenc[i, 0], Zenc[i, 1], 'go')\n",
    "            sensor_numbersG.append(i)\n",
    "        else:\n",
    "            ax.plot(Zenc[i, 0], Zenc[i, 1], 'bo')\n",
    "            sensor_numbersB.append(i)\n",
    "    \n",
    "#plt.xticks(rotation=90)\n",
    "plt.rcParams['figure.figsize'] = [15,5]\n",
    "ax.grid()\n",
    "plt.show()"
   ]
  },
  {
   "cell_type": "code",
   "execution_count": 25,
   "metadata": {
    "scrolled": true
   },
   "outputs": [
    {
     "name": "stdout",
     "output_type": "stream",
     "text": [
      "Red elements               Blue elements              Green elements             Yellow elements\n",
      "[channel number, amount]   [channel number, amount]   [channel number, amount]   [channel number, amount]\n",
      "[             0,     44]   [           533,     44]   [           512,     44]   [           171,     44]\n",
      "[             1,     44]   [           534,     44]   [           513,     44]   [           172,     44]\n",
      "[             2,     44]   [           535,     44]   [           514,     44]   [           173,     44]\n",
      "[             3,     44]   [           536,     44]   [           515,     44]   [           174,     44]\n",
      "[             4,     44]   [           537,     44]   [           516,     44]   [           175,     44]\n",
      "[             5,     44]   [           538,     44]   [           517,     44]   [           176,     44]\n",
      "[             6,     44]   [           539,     44]   [           518,     44]   [           177,     44]\n",
      "[             7,     44]   [           540,     44]   [           519,     44]   [           178,     44]\n",
      "[             8,     44]   [           541,     44]   [           520,     44]   [           179,     44]\n",
      "[             9,     44]   [           542,     44]   [           521,     44]   [           180,     44]\n",
      "[            10,     44]   [           543,     44]   [           522,     44]   [           181,     44]\n",
      "[            11,     44]   [           544,     44]   [           523,     44]   [           182,     44]\n",
      "[            12,     44]   [           545,     44]   [           524,     44]   [           183,     44]\n",
      "[            13,     44]   [           546,     44]   [           525,     44]   [           184,     44]\n",
      "[            14,     44]   [           547,     44]   [           526,     44]   [           185,     44]\n",
      "[            15,     44]   [           548,     44]   [           527,     44]   [           186,     44]\n",
      "[            16,     44]   [           549,     44]   [           528,     44]   [           187,     44]\n",
      "[            17,     44]   [           550,     44]   [           529,     44]   [           188,     44]\n",
      "[            18,     44]   [           551,     44]   [           530,     44]   [           189,     44]\n",
      "[            19,     44]   [           552,     44]   [           531,     44]   [           190,     44]\n",
      "[            20,     44]   [           553,     44]   [           532,     44]   [           191,     44]\n",
      "[            21,     44]   [           554,     44]   [          1088,     44]   [           747,     44]\n",
      "[            22,     44]   [           555,     44]   [          1089,     44]   [           748,     44]\n",
      "[            23,     44]   [           556,     44]   [          1090,     44]   [           749,     44]\n",
      "[            24,     44]   [           557,     44]   [          1091,     44]   [           750,     44]\n",
      "[            25,     44]   [           558,     44]   [          1092,     44]   [           751,     44]\n",
      "[            26,     44]   [           559,     44]   [          1093,     44]   [           752,     44]\n",
      "[            27,     44]   [           560,     44]   [          1094,     44]   [           753,     44]\n",
      "[            28,     44]   [           561,     44]   [          1095,     44]   [           754,     44]\n",
      "[            29,     44]   [           562,     44]   [          1096,     44]   [           755,     44]\n",
      "[            30,     44]   [           563,     44]   [          1097,     44]   [           756,     44]\n",
      "[            31,     44]   [           564,     44]   [          1098,     44]   [           757,     44]\n",
      "[            32,     44]   [           565,     44]   [          1099,     44]   [           758,     44]\n",
      "[            33,     44]   [           566,     44]   [          1100,     44]   [           759,     44]\n",
      "[            34,     44]   [           567,     44]   [          1101,     44]   [           760,     44]\n",
      "[            35,     44]   [           568,     44]   [          1102,     44]   [           761,     44]\n",
      "[            36,     44]   [           569,     44]   [          1103,     44]   [           762,     44]\n",
      "[            37,     44]   [           570,     44]   [          1104,     44]   [           763,     44]\n",
      "[            38,     44]   [           571,     44]   [          1105,     44]   [           764,     44]\n",
      "[            39,     44]   [           572,     44]   [          1106,     44]   [           765,     44]\n",
      "[            40,     44]   [           573,     44]   [          1107,     44]   [           766,     44]\n",
      "[            41,     44]   [           574,     44]   [          1108,     44]   [           767,     44]\n",
      "[            42,     44]   [           575,     44]   [          1664,     44]   [          1322,     44]\n",
      "[            43,     44]   [          1109,     44]   [          1665,     44]   [          1323,     44]\n",
      "[            44,     44]   [          1110,     44]   [          1666,     44]   [          1324,     44]\n",
      "[            45,     44]   [          1111,     44]   [          1667,     44]   [          1325,     44]\n",
      "[            46,     44]   [          1112,     44]   [          1668,     44]   [          1326,     44]\n",
      "[            47,     44]   [          1113,     44]   [          1669,     44]   [          1327,     44]\n",
      "[            48,     44]   [          1114,     44]   [          1670,     44]   [          1328,     44]\n",
      "[            49,     44]   [          1115,     44]   [          1671,     44]   [          1329,     44]\n",
      "[            50,     44]   [          1116,     44]   [          1672,     44]   [          1330,     44]\n",
      "[            51,     44]   [          1117,     44]   [          1673,     44]   [          1331,     44]\n",
      "[            52,     44]   [          1118,     44]   [          1674,     44]   [          1332,     44]\n",
      "[            53,     44]   [          1119,     44]   [          1675,     44]   [          1333,     44]\n",
      "[            54,     44]   [          1120,     44]   [          1676,     44]   [          1334,     44]\n",
      "[            55,     44]   [          1121,     44]   [          1677,     44]   [          1335,     44]\n",
      "[            56,     44]   [          1122,     44]   [          1678,     44]   [          1336,     44]\n",
      "[            57,     44]   [          1123,     44]   [          1679,     44]   [          1337,     44]\n",
      "[            58,     44]   [          1124,     44]   [          1680,     44]   [          1338,     44]\n",
      "[            59,     44]   [          1125,     44]   [          1681,     44]   [          1339,     44]\n",
      "[            60,     44]   [          1126,     44]   [          1682,     44]   [          1340,     44]\n",
      "[            61,     44]   [          1127,     44]   [          1683,     44]   [          1341,     44]\n",
      "[            62,     44]   [          1128,     44]   [          1684,     44]   [          1342,     44]\n",
      "[            63,     44]   [          1129,     44]   [          1685,     44]   [          1343,     44]\n",
      "[            64,     44]   [          1130,     44]   [          2240,     44]   [          1899,     44]\n",
      "[            65,     44]   [          1131,     44]   [          2241,     44]   [          1900,     44]\n",
      "[            66,     44]   [          1132,     44]   [          2242,     44]   [          1901,     44]\n",
      "[            67,     44]   [          1133,     44]   [          2243,     44]   [          1902,     44]\n",
      "[            68,     44]   [          1134,     44]   [          2244,     44]   [          1903,     44]\n",
      "[            69,     44]   [          1135,     44]   [          2245,     44]   [          1904,     44]\n",
      "[            70,     44]   [          1136,     44]   [          2246,     44]   [          1905,     44]\n",
      "[            71,     44]   [          1137,     44]   [          2247,     44]   [          1906,     44]\n",
      "[            72,     44]   [          1138,     44]   [          2248,     44]   [          1907,     44]\n",
      "[            73,     44]   [          1139,     44]   [          2249,     44]   [          1908,     44]\n",
      "[            74,     44]   [          1140,     44]   [          2250,     44]   [          1909,     44]\n",
      "[            75,     44]   [          1141,     44]   [          2251,     44]   [          1910,     44]\n",
      "[            76,     44]   [          1142,     44]   [          2252,     44]   [          1911,     44]\n",
      "[            77,     44]   [          1143,     44]   [          2253,     44]   [          1912,     44]\n",
      "[            78,     44]   [          1144,     44]   [          2254,     44]   [          1913,     44]\n",
      "[            79,     44]   [          1145,     44]   [          2255,     44]   [          1914,     44]\n",
      "[            80,     44]   [          1146,     44]   [          2256,     44]   [          1915,     44]\n",
      "[            81,     44]   [          1147,     44]   [          2257,     44]   [          1916,     44]\n",
      "[            82,     44]   [          1148,     44]   [          2258,     44]   [          1917,     44]\n",
      "[            83,     44]   [          1149,     44]   [          2259,     44]   [          1918,     44]\n",
      "[            84,     44]   [          1150,     44]   [          2260,     44]   [          1919,     44]\n",
      "[            85,     44]   [          1151,     44]\n",
      "[            86,     44]   [          1686,     44]\n",
      "[            87,     44]   [          1687,     44]\n",
      "[            88,     44]   [          1688,     44]\n",
      "[            89,     44]   [          1689,     44]\n",
      "[            90,     44]   [          1690,     44]\n",
      "[            91,     44]   [          1691,     44]\n",
      "[            92,     44]   [          1692,     44]\n",
      "[            93,     44]   [          1693,     44]\n",
      "[            94,     44]   [          1694,     44]\n",
      "[            95,     44]   [          1695,     44]\n",
      "[            96,     44]   [          1696,     44]\n",
      "[            97,     44]   [          1697,     44]\n",
      "[            98,     44]   [          1698,     44]\n",
      "[            99,     44]   [          1699,     44]\n",
      "[           100,     44]   [          1700,     44]\n",
      "[           101,     44]   [          1701,     44]\n",
      "[           102,     44]   [          1702,     44]\n",
      "[           103,     44]   [          1703,     44]\n",
      "[           104,     44]   [          1704,     44]\n",
      "[           105,     44]   [          1705,     44]\n",
      "[           106,     44]   [          1706,     44]\n",
      "[           107,     44]   [          1707,     44]\n",
      "[           108,     44]   [          1708,     44]\n",
      "[           109,     44]   [          1709,     44]\n",
      "[           110,     44]   [          1710,     44]\n",
      "[           111,     44]   [          1711,     44]\n",
      "[           112,     44]   [          1712,     44]\n",
      "[           113,     44]   [          1713,     44]\n",
      "[           114,     44]   [          1714,     44]\n",
      "[           115,     44]   [          1715,     44]\n",
      "[           116,     44]   [          1716,     44]\n",
      "[           117,     44]   [          1717,     44]\n",
      "[           118,     44]   [          1718,     44]\n",
      "[           119,     44]   [          1719,     44]\n",
      "[           120,     44]   [          1720,     44]\n",
      "[           121,     44]   [          1721,     44]\n",
      "[           122,     44]   [          1722,     44]\n",
      "[           123,     44]   [          1723,     44]\n",
      "[           124,     44]   [          1724,     44]\n",
      "[           125,     44]   [          1725,     44]\n",
      "[           126,     44]   [          1726,     44]\n",
      "[           127,     44]   [          1727,     44]\n",
      "[           128,     44]   [          2261,     44]\n",
      "[           129,     44]   [          2262,     44]\n",
      "[           130,     44]   [          2263,     44]\n",
      "[           131,     44]   [          2264,     44]\n",
      "[           132,     44]   [          2265,     44]\n",
      "[           133,     44]   [          2266,     44]\n",
      "[           134,     44]   [          2267,     44]\n",
      "[           135,     44]   [          2268,     44]\n",
      "[           136,     44]   [          2269,     44]\n",
      "[           137,     44]   [          2270,     44]\n",
      "[           138,     44]   [          2271,     44]\n",
      "[           139,     44]   [          2272,     44]\n",
      "[           140,     44]   [          2273,     44]\n",
      "[           141,     44]   [          2274,     44]\n",
      "[           142,     44]   [          2275,     44]\n",
      "[           143,     44]   [          2276,     44]\n",
      "[           144,     44]   [          2277,     44]\n",
      "[           145,     44]   [          2278,     44]\n",
      "[           146,     44]   [          2279,     44]\n",
      "[           147,     44]   [          2280,     44]\n",
      "[           148,     44]   [          2281,     44]\n",
      "[           149,     44]   [          2282,     44]\n",
      "[           150,     44]   [          2283,     44]\n",
      "[           151,     44]   [          2284,     44]\n",
      "[           152,     44]   [          2285,     44]\n",
      "[           153,     44]   [          2286,     44]\n",
      "[           154,     44]   [          2287,     44]\n",
      "[           155,     44]   [          2288,     44]\n",
      "[           156,     44]   [          2289,     44]\n",
      "[           157,     44]   [          2290,     44]\n",
      "[           158,     44]   [          2291,     44]\n",
      "[           159,     44]   [          2292,     44]\n",
      "[           160,     44]   [          2293,     44]\n",
      "[           161,     44]   [          2294,     44]\n",
      "[           162,     44]   [          2295,     44]\n",
      "[           163,     44]   [          2296,     44]\n",
      "[           164,     44]   [          2297,     44]\n",
      "[           165,     44]   [          2298,     44]\n",
      "[           166,     44]   [          2299,     44]\n",
      "[           167,     44]   [          2300,     44]\n",
      "[           168,     44]   [          2301,     44]\n",
      "[           169,     44]   [          2302,     44]\n",
      "[           170,     44]   [          2303,     44]\n",
      "[           192,     44]\n",
      "[           193,     44]\n",
      "[           194,     44]\n",
      "[           195,     44]\n",
      "[           196,     44]\n",
      "[           197,     44]\n",
      "[           198,     44]\n",
      "[           199,     44]\n",
      "[           200,     44]\n",
      "[           201,     44]\n",
      "[           ....       ]\n"
     ]
    }
   ],
   "source": [
    "print(\"Red elements {:>27} {:>27} {:>27}\".format(\"Blue elements\", \"Green elements\", \"Yellow elements\"))\n",
    "print(\"[channel number, amount] {:>26} {:>26} {:>26}\".format(\"[channel number, amount]\", \"[channel number, amount]\", \"[channel number, amount]\"))\n",
    "snR = [[x,sensor_numbersR.count(x)] for x in set(sensor_numbersR)]\n",
    "snG = [[x,sensor_numbersG.count(x)] for x in set(sensor_numbersG)]\n",
    "snB = [[x,sensor_numbersB.count(x)] for x in set(sensor_numbersB)]\n",
    "snY = [[x,sensor_numbersY.count(x)] for x in set(sensor_numbersY)]\n",
    "maxR = len(snR)\n",
    "maxG = len(snG)\n",
    "maxB = len(snB)\n",
    "maxY = len(snY)\n",
    "\n",
    "for i in range(maxR):\n",
    "    if i < maxG:\n",
    "        print(\"[{:>14}, {:>6}]   [{:>14}, {:>6}]   [{:>14}, {:>6}]   [{:>14}, {:>6}]\".format(snR[i][0], snR[i][1], snB[i][0], snB[i][1], snG[i][0], snG[i][1], snY[i][0], snY[i][1]))\n",
    "    elif i >= maxG and i < maxB:\n",
    "        print(\"[{:>14}, {:>6}]   [{:>14}, {:>6}]\".format(snR[i][0], snR[i][1], snB[i][0], snB[i][1]))\n",
    "    elif i >= maxB and i < (maxB + 10):\n",
    "        print(\"[{:>14}, {:>6}]\".format(snR[i][0], snR[i][1]))\n",
    "print(\"[           ....       ]\")      "
   ]
  },
  {
   "cell_type": "code",
   "execution_count": 6,
   "metadata": {},
   "outputs": [
    {
     "name": "stderr",
     "output_type": "stream",
     "text": [
      "WARNING: Logging before flag parsing goes to stderr.\n",
      "W0702 02:27:26.957463  6732 deprecation_wrapper.py:119] From c:\\program files\\python37\\lib\\site-packages\\keras\\backend\\tensorflow_backend.py:74: The name tf.get_default_graph is deprecated. Please use tf.compat.v1.get_default_graph instead.\n",
      "\n",
      "W0702 02:27:26.989444  6732 deprecation_wrapper.py:119] From c:\\program files\\python37\\lib\\site-packages\\keras\\backend\\tensorflow_backend.py:517: The name tf.placeholder is deprecated. Please use tf.compat.v1.placeholder instead.\n",
      "\n",
      "W0702 02:27:26.994439  6732 deprecation_wrapper.py:119] From c:\\program files\\python37\\lib\\site-packages\\keras\\backend\\tensorflow_backend.py:4138: The name tf.random_uniform is deprecated. Please use tf.random.uniform instead.\n",
      "\n",
      "W0702 02:27:27.122359  6732 deprecation_wrapper.py:119] From c:\\program files\\python37\\lib\\site-packages\\keras\\optimizers.py:790: The name tf.train.Optimizer is deprecated. Please use tf.compat.v1.train.Optimizer instead.\n",
      "\n",
      "W0702 02:27:27.133353  6732 deprecation_wrapper.py:119] From c:\\program files\\python37\\lib\\site-packages\\keras\\backend\\tensorflow_backend.py:3376: The name tf.log is deprecated. Please use tf.math.log instead.\n",
      "\n",
      "W0702 02:27:27.142347  6732 deprecation.py:323] From c:\\program files\\python37\\lib\\site-packages\\tensorflow\\python\\ops\\nn_impl.py:180: add_dispatch_support.<locals>.wrapper (from tensorflow.python.ops.array_ops) is deprecated and will be removed in a future version.\n",
      "Instructions for updating:\n",
      "Use tf.where in 2.0, which has the same broadcast rule as np.where\n"
     ]
    },
    {
     "name": "stdout",
     "output_type": "stream",
     "text": [
      "_________________________________________________________________\n",
      "Layer (type)                 Output Shape              Param #   \n",
      "=================================================================\n",
      "dense_1 (Dense)              (None, 20)                860       \n",
      "_________________________________________________________________\n",
      "bottleneck (Dense)           (None, 2)                 42        \n",
      "_________________________________________________________________\n",
      "dense_2 (Dense)              (None, 20)                60        \n",
      "_________________________________________________________________\n",
      "dense_3 (Dense)              (None, 42)                882       \n",
      "=================================================================\n",
      "Total params: 1,844\n",
      "Trainable params: 1,844\n",
      "Non-trainable params: 0\n",
      "_________________________________________________________________\n"
     ]
    }
   ],
   "source": [
    "ncol   = 42\n",
    "inputS = (ncol,)\n",
    "modelReluR = Sequential()\n",
    "\n",
    "# Encoder Layers\n",
    "modelReluR.add(Dense(20, activation = 'relu', input_shape=inputS))\n",
    "modelReluR.add(Dense(2,  activation = 'relu', name=\"bottleneck\"))\n",
    "\n",
    "# Decoder Layers\n",
    "modelReluR.add(Dense(20, activation = 'relu'))\n",
    "modelReluR.add(Dense(42, activation = 'sigmoid'))\n",
    "\n",
    "# Compile the Model\n",
    "modelReluR.compile(loss = 'binary_crossentropy', optimizer = Adam())\n",
    "\n",
    "modelReluR.summary()"
   ]
  },
  {
   "cell_type": "code",
   "execution_count": 7,
   "metadata": {},
   "outputs": [
    {
     "name": "stderr",
     "output_type": "stream",
     "text": [
      "W0702 02:27:28.598443  6732 deprecation_wrapper.py:119] From c:\\program files\\python37\\lib\\site-packages\\keras\\backend\\tensorflow_backend.py:986: The name tf.assign_add is deprecated. Please use tf.compat.v1.assign_add instead.\n",
      "\n"
     ]
    },
    {
     "data": {
      "image/png": "[encoded data removed]",
      "text/plain": [
       "<Figure size 1080x360 with 1 Axes>"
      ]
     },
     "metadata": {
      "needs_background": "light"
     },
     "output_type": "display_data"
    }
   ],
   "source": [
    "train_loss_batch = []\n",
    "\n",
    "for file in data_filesT:\n",
    "    data2 = pd.DataFrame()\n",
    "    data = pd.read_csv(file ,sep=' ', header=None, engine='python', error_bad_lines=False, warn_bad_lines=False)\n",
    "    data = data[data[0].str.contains(\"hit_threshold\")]\n",
    "    data.index = [i for i in range(84)]\n",
    "    data = data[pd.DataFrame(data[1].tolist()).isin(r_sensors_names).any(1)]\n",
    "    names = data[1].tolist()\n",
    "    data2 = data.loc[:, 2:2305]\n",
    "\n",
    "    data2.index = names\n",
    "    data2.columns = range(2304)\n",
    "\n",
    "    data_train = data2.T\n",
    "    \n",
    "    history = modelReluR.train_on_batch(data_train, data_train)\n",
    "    train_loss_batch.append(history)\n",
    "\n",
    "#plot_history(train_loss_fit)\n",
    "plot_history(train_loss_batch)"
   ]
  },
  {
   "cell_type": "code",
   "execution_count": 8,
   "metadata": {},
   "outputs": [
    {
     "name": "stdout",
     "output_type": "stream",
     "text": [
      "_________________________________________________________________\n",
      "Layer (type)                 Output Shape              Param #   \n",
      "=================================================================\n",
      "dense_1_input (InputLayer)   (None, 42)                0         \n",
      "_________________________________________________________________\n",
      "dense_1 (Dense)              (None, 20)                860       \n",
      "_________________________________________________________________\n",
      "bottleneck (Dense)           (None, 2)                 42        \n",
      "=================================================================\n",
      "Total params: 902\n",
      "Trainable params: 902\n",
      "Non-trainable params: 0\n",
      "_________________________________________________________________\n"
     ]
    }
   ],
   "source": [
    "chanell_encoder = Model(modelReluR.input, modelReluR.get_layer('bottleneck').output)\n",
    "chanell_encoder.summary()"
   ]
  },
  {
   "cell_type": "code",
   "execution_count": 14,
   "metadata": {},
   "outputs": [
    {
     "data": {
      "image/png": "[encoded data removed]",
      "text/plain": [
       "<Figure size 1080x360 with 1 Axes>"
      ]
     },
     "metadata": {
      "needs_background": "light"
     },
     "output_type": "display_data"
    }
   ],
   "source": [
    "fig, ax = plt.subplots()\n",
    "ax.set_title('Hit treshold value per channel after autoencoder reduction (relu)')\n",
    "\n",
    "for file in data_filesT:\n",
    "    data2 = pd.DataFrame()\n",
    "    data = pd.read_csv(file ,sep=' ', header=None, engine='python', error_bad_lines=False, warn_bad_lines=False)\n",
    "    data = data[data[0].str.contains(\"hit_threshold\")]\n",
    "    data.index = [i for i in range(84)]\n",
    "    data = data[pd.DataFrame(data[1].tolist()).isin(r_sensors_names).any(1)]\n",
    "    names = data[1].tolist()\n",
    "    data2 = data.loc[:, 2:2305]\n",
    "\n",
    "    data2.index = names\n",
    "    data2.columns = range(2304)\n",
    "\n",
    "    data_test = data2.T\n",
    "    \n",
    "    Zenc = chanell_encoder.predict(data_test) \n",
    "\n",
    "    ax.plot(Zenc[:,0], Zenc[:,1], 'ro')\n",
    "    \n",
    "#plt.xticks(rotation=90)\n",
    "plt.rcParams['figure.figsize'] = [15,5]\n",
    "ax.grid()\n",
    "plt.show()"
   ]
  },
  {
   "cell_type": "code",
   "execution_count": 10,
   "metadata": {},
   "outputs": [
    {
     "name": "stdout",
     "output_type": "stream",
     "text": [
      "_________________________________________________________________\n",
      "Layer (type)                 Output Shape              Param #   \n",
      "=================================================================\n",
      "dense_4 (Dense)              (None, 20)                860       \n",
      "_________________________________________________________________\n",
      "bottleneck (Dense)           (None, 2)                 42        \n",
      "_________________________________________________________________\n",
      "dense_5 (Dense)              (None, 20)                60        \n",
      "_________________________________________________________________\n",
      "dense_6 (Dense)              (None, 42)                882       \n",
      "=================================================================\n",
      "Total params: 1,844\n",
      "Trainable params: 1,844\n",
      "Non-trainable params: 0\n",
      "_________________________________________________________________\n"
     ]
    }
   ],
   "source": [
    "ncol   = 42\n",
    "inputS = (ncol,)\n",
    "modelReluPhi = Sequential()\n",
    "\n",
    "# Encoder Layers\n",
    "modelReluPhi.add(Dense(20, activation = 'relu', input_shape=inputS))\n",
    "modelReluPhi.add(Dense(2,  activation = 'relu', name=\"bottleneck\"))\n",
    "\n",
    "# Decoder Layers\n",
    "modelReluPhi.add(Dense(20, activation = 'relu'))\n",
    "modelReluPhi.add(Dense(42, activation = 'sigmoid'))\n",
    "\n",
    "# Compile the Model\n",
    "modelReluPhi.compile(loss = 'binary_crossentropy', optimizer = Adam())\n",
    "\n",
    "modelReluPhi.summary()"
   ]
  },
  {
   "cell_type": "code",
   "execution_count": 11,
   "metadata": {},
   "outputs": [
    {
     "data": {
      "image/png": "[encoded data removed]",
      "text/plain": [
       "<Figure size 1080x360 with 1 Axes>"
      ]
     },
     "metadata": {
      "needs_background": "light"
     },
     "output_type": "display_data"
    }
   ],
   "source": [
    "train_loss_batch = []\n",
    "\n",
    "for file in data_filesT:\n",
    "    data2 = pd.DataFrame()\n",
    "    data = pd.read_csv(file ,sep=' ', header=None, engine='python', error_bad_lines=False, warn_bad_lines=False)\n",
    "    data = data[data[0].str.contains(\"hit_threshold\")]\n",
    "    data.index = [i for i in range(84)]\n",
    "    data = data[pd.DataFrame(data[1].tolist()).isin(phi_sensors_names).any(1)]\n",
    "    names = data[1].tolist()\n",
    "    data2 = data.loc[:, 2:2305]\n",
    "\n",
    "    data2.index = names\n",
    "    data2.columns = range(2304)\n",
    "\n",
    "    data_train = data2.T\n",
    "    \n",
    "    history = modelReluPhi.train_on_batch(data_train, data_train)\n",
    "    train_loss_batch.append(history)\n",
    "\n",
    "#plot_history(train_loss_fit)\n",
    "plot_history(train_loss_batch)"
   ]
  },
  {
   "cell_type": "code",
   "execution_count": 12,
   "metadata": {},
   "outputs": [
    {
     "name": "stdout",
     "output_type": "stream",
     "text": [
      "_________________________________________________________________\n",
      "Layer (type)                 Output Shape              Param #   \n",
      "=================================================================\n",
      "dense_4_input (InputLayer)   (None, 42)                0         \n",
      "_________________________________________________________________\n",
      "dense_4 (Dense)              (None, 20)                860       \n",
      "_________________________________________________________________\n",
      "bottleneck (Dense)           (None, 2)                 42        \n",
      "=================================================================\n",
      "Total params: 902\n",
      "Trainable params: 902\n",
      "Non-trainable params: 0\n",
      "_________________________________________________________________\n"
     ]
    }
   ],
   "source": [
    "chanell_encoder2 = Model(modelReluPhi.input, modelReluPhi.get_layer('bottleneck').output)\n",
    "chanell_encoder2.summary()"
   ]
  },
  {
   "cell_type": "code",
   "execution_count": 13,
   "metadata": {},
   "outputs": [
    {
     "data": {
      "image/png": "[encoded data removed]",
      "text/plain": [
       "<Figure size 1080x360 with 1 Axes>"
      ]
     },
     "metadata": {
      "needs_background": "light"
     },
     "output_type": "display_data"
    }
   ],
   "source": [
    "fig, ax = plt.subplots()\n",
    "ax.set_title('Hit treshold value per channel after autoencoder reduction (relu)')\n",
    "\n",
    "for file in data_filesT:\n",
    "    data2 = pd.DataFrame()\n",
    "    data = pd.read_csv(file ,sep=' ', header=None, engine='python', error_bad_lines=False, warn_bad_lines=False)\n",
    "    data = data[data[0].str.contains(\"hit_threshold\")]\n",
    "    data.index = [i for i in range(84)]\n",
    "    data = data[pd.DataFrame(data[1].tolist()).isin(phi_sensors_names).any(1)]\n",
    "    names = data[1].tolist()\n",
    "    data2 = data.loc[:, 2:2305]\n",
    "\n",
    "    data2.index = names\n",
    "    data2.columns = range(2304)\n",
    "\n",
    "    data_test = data2.T\n",
    "    \n",
    "    Zenc = chanell_encoder2.predict(data_test) \n",
    "\n",
    "    ax.plot(Zenc[:,0], Zenc[:,1], 'ro')\n",
    "    \n",
    "#plt.xticks(rotation=90)\n",
    "plt.rcParams['figure.figsize'] = [15,5]\n",
    "ax.grid()\n",
    "plt.show()"
   ]
  },
  {
   "cell_type": "code",
   "execution_count": null,
   "metadata": {},
   "outputs": [],
   "source": []
  }
 ],
 "metadata": {
  "kernelspec": {
   "display_name": "Python 3",
   "language": "python",
   "name": "python3"
  },
  "language_info": {
   "codemirror_mode": {
    "name": "ipython",
    "version": 3
   },
   "file_extension": ".py",
   "mimetype": "text/x-python",
   "name": "python",
   "nbconvert_exporter": "python",
   "pygments_lexer": "ipython3",
   "version": "3.7.3"
  }
 },
 "nbformat": 4,
 "nbformat_minor": 2
}
